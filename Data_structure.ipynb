{
  "nbformat": 4,
  "nbformat_minor": 0,
  "metadata": {
    "colab": {
      "provenance": []
    },
    "kernelspec": {
      "name": "python3",
      "display_name": "Python 3"
    },
    "language_info": {
      "name": "python"
    }
  },
  "cells": [
    {
      "cell_type": "markdown",
      "source": [
        "**Datastructure**"
      ],
      "metadata": {
        "id": "Q67eCJIFnLk0"
      }
    },
    {
      "cell_type": "markdown",
      "source": [
        "1. What are data structures, and why are they important ?\n",
        "      \n",
        "      - Data structures in Python are specialized formats or containers used to store and organize data efficiently.\n",
        "hey provide various ways to store, access, and manipulate data according to specific needs.\n",
        "       \n",
        "        Python, a versatile and popular programming language, provides a wide array of data structures to\n",
        "accommodate various needs:\n",
        "      * Data Handling\n",
        "      * Organization\n",
        "      * Efficiency\n",
        "      * Flexibility\n",
        "      * Built-in Tools\n",
        "      * Custom Data Structures\n",
        "\n",
        "\n",
        "  "
      ],
      "metadata": {
        "id": "E8O8xGKznShl"
      }
    },
    {
      "cell_type": "markdown",
      "source": [
        "2. Explain the difference between mutable and immutable data types with examples.\n",
        "    - **Mutable data types**\n",
        "These data types can be modified after they are created. For example, in Python, lists, dictionaries, and sets are mutable data types.\n",
        "      **Immutable data types**\n",
        "These data types cannot be changed after they are created. For example, in Python, strings, tuples, integers, and floats are immutable data types.\n",
        "     \n",
        "     **Example**\n",
        "  \n",
        "     **List :**\n",
        "In Python, lists are mutable data types, which means they can be modified after they are created.\n",
        "  \n",
        "     **tuple :**\n",
        "In Python, tuples are immutable data types, which means they cannot be modified after they are created."
      ],
      "metadata": {
        "id": "hGNQQD6Qnz12"
      }
    },
    {
      "cell_type": "markdown",
      "source": [
        "3. What are the main differences between lists and tuples in Python ?\n",
        "  - List vs Tuple in Python: Key Differences ExplainedThe main differences between lists and tuples in Python are that lists are mutable, while tuples are immutable. Lists can be modified, while tuples cannot. Tuples are also more memory efficient and faster than lists.\n"
      ],
      "metadata": {
        "id": "AlAmG0ugoBEw"
      }
    },
    {
      "cell_type": "markdown",
      "source": [
        "4.  Describe how dictionaries store data ?\n",
        "     - Dictionaries are used to store data values in key:value pairs. A dictionary is a collection which is ordered*, changeable and do not allow duplicates.  "
      ],
      "metadata": {
        "id": "HyldSc2ToBay"
      }
    },
    {
      "cell_type": "markdown",
      "source": [
        "5. Why might you use a set instead of a list in Python ?\n",
        "   - One of the main advantages of using sets in Python is that they are highly optimized for membership tests. For example, sets do membership tests a lot more efficiently than lists. In case you are from a computer science background, this is because the average case time complexity of membership tests in sets are O(1) vs O(n) for lists.\n",
        "   The code below shows a membership test using a list.\n",
        "\n",
        "\n",
        "# Initialize a list\n",
        "possibleList = ['Python', 'R', 'SQL', 'Git', 'Tableau', 'SAS', 'Java', 'Spark', 'Scala']\n",
        "\n",
        "# Membership test\n",
        "'Python' in possibleList\n",
        "       \n",
        "       Result true"
      ],
      "metadata": {
        "id": "V_lnAJ26oBpX"
      }
    },
    {
      "cell_type": "markdown",
      "source": [
        "6. vWhat is a string in Python, and how is it different from a list?\n",
        "    - A string is a sequence of characters between single or double quotes. A list is a sequence of items, where each item could be anything (an integer, a float, a string, etc)."
      ],
      "metadata": {
        "id": "xY5Ndp3BoB2-"
      }
    },
    {
      "cell_type": "markdown",
      "source": [
        "7. How do tuples ensure data integrity in Python ?\n",
        "    - Tuples are immutable to ensure that their contents remain constant throughout their lifecycle, guaranteeing data integrity and reliability. This immutability allows tuples to be used as keys in dictionaries and elements in sets, as they can be hashed."
      ],
      "metadata": {
        "id": "JaAOWas-oCWW"
      }
    },
    {
      "cell_type": "markdown",
      "source": [
        "8. What is a hash table, and how does it relate to dictionaries in Python?\n",
        "     - In Python, a hash table is a data structure that's implemented by the dictionary data type (\\(dict\\)). Hash tables store key-value pairs and are used to make data easily and quickly accessible.\n",
        "     \n",
        "      ****"
      ],
      "metadata": {
        "id": "vJTh4z7DpY7X"
      }
    },
    {
      "cell_type": "markdown",
      "source": [
        "9. Can lists contain different data types in Python ?\n",
        "     - A list can also contain a mix of Python types including strings, floats, and booleans."
      ],
      "metadata": {
        "id": "lZX68qyMpZMu"
      }
    },
    {
      "cell_type": "markdown",
      "source": [
        "10.  Explain why strings are immutable in Python ?\n",
        "    - Immutable strings greatly simplify memory allocation when compared with C strings: you don't guess at a length and over-allocate hoping you over-allocated enough."
      ],
      "metadata": {
        "id": "VwNVajkApZis"
      }
    },
    {
      "cell_type": "markdown",
      "source": [
        "11. What advantages do dictionaries offer over lists for certain tasks ?\n",
        "   - Dictionaries offer faster lookups and are more flexible than lists for certain tasks:\n",
        "     \n",
        "     **Faster lookups**\n",
        "         \n",
        "         **Hash tables**:-\n",
        "         Dictionaries use hash tables to implement lookups, which are faster than lists.\n",
        "        \n",
        "        ** Time complexity:-**\n",
        "         Dictionaries have constant time complexity (\\(O(1)\\)), while lists have linear time complexity (\\(O(n)\\)\n",
        "          **More flexible**\n",
        "Storing complex data:- Dictionaries can store complex data structures like databases and graphs.\n",
        "\n",
        "       Storing any type of data:- Dictionaries can store any type of data as both the key and the value.\n",
        "\n",
        "     Generating key:value pairs:- Dictionaries make code easier to read when generating key:value pairs.\n",
        "\n"
      ],
      "metadata": {
        "id": "GGN649zxpZ0r"
      }
    },
    {
      "cell_type": "markdown",
      "source": [
        " 12.Describe a scenario where using a tuple would be preferable over a list.\n",
        "     \n",
        "   - Tuples are generally faster and more memory-efficient than lists, making them better for fixed collections, especially as dictionary keys or when iteration speed is crucial."
      ],
      "metadata": {
        "id": "d69xDKIUpaMa"
      }
    },
    {
      "cell_type": "markdown",
      "source": [
        "13. How do sets handle duplicate values in Python ?\n",
        "  - Items of a set in python are immutable (unchangeable), do not duplicate values, and unordered. Thus, items in a set do not appear in a stipulated manner, i.e., they can appear in a different order every time it is used. Due to this, set items cannot be referred to by key or index."
      ],
      "metadata": {
        "id": "ai6Qeg9Dq0e1"
      }
    },
    {
      "cell_type": "markdown",
      "source": [
        "14. How does the “in” keyword work differently for lists and dictionaries ?\n",
        "    - In Python, the in and not in operators test membership in lists, tuples, dictionaries, and so on.\n",
        "     \n",
        "      The in operator can be use with list\n",
        "    \n",
        "      print(1 in (0, 1, 2))\n",
        "         \n",
        "         #True\n",
        "         \n",
        "         The in operator for dictionaries (dict) checks for the presence of a key.\n",
        "\n",
        "           d = {'key1': 'value1', 'key2': 'value2', 'key3': 'value3'}\n",
        "\n",
        "            print('key1' in d)\n",
        "            # True\n",
        "\n",
        "            print('value1' in d)\n",
        "            # False\n"
      ],
      "metadata": {
        "id": "-Tkgnl3qq07Q"
      }
    },
    {
      "cell_type": "markdown",
      "source": [
        "15. Can you modify the elements of a tuple? Explain why or why not.\n",
        "    - No, you cannot directly modify the elements of a tuple because tuples are considered \"immutable\" data structures, meaning once created, their elements cannot be changed; if you try to alter a tuple element, you will receive an error message."
      ],
      "metadata": {
        "id": "tNA3FCtGq2Sp"
      }
    },
    {
      "cell_type": "markdown",
      "source": [
        "16. What is a nested dictionary, and give an example of its use case ?\n",
        "   - A nested dictionary is a dictionary that contains other dictionaries. It's a data structure in Python that can store data in multiple layers.\n",
        "       Example 3:\n",
        "\n",
        "# Python program to print Empty nested dictionary  \n",
        "      dict = { 'dict1': { },'dict2': { }, 'dict3': { }}  \n",
        "      print(\"Nested dictionary are as follows -\")  \n",
        "      print(dict)  \n",
        "        The Output of the following Program\n",
        "\n",
        "        Nested dictionary are as follows -\n",
        "\n",
        "        {'dict1': {}, 'dict2': {}, 'dict3': {}}"
      ],
      "metadata": {
        "id": "mFcopkKcq2ng"
      }
    },
    {
      "cell_type": "markdown",
      "source": [
        "17.  Describe the time complexity of accessing elements in a dictionary.\n",
        "        - The time complexity of accessing an element in a Python dictionary is \\(O(1)\\) on average, but can be \\(O(n)\\) in the worst case. The time complexity depends on the size of the dictionary and the operation being performed."
      ],
      "metadata": {
        "id": "24CFBbdKq26N"
      }
    },
    {
      "cell_type": "markdown",
      "source": [
        " 18. In what situations are lists preferred over dictionaries ?\n",
        "       - f you need an ordered collection, like a sequence of user actions, lists are your go-to. On the other hand, when you need quick look-ups, like mapping usernames to user data, dictionaries are invaluable."
      ],
      "metadata": {
        "id": "ALo8eOK5q3O5"
      }
    },
    {
      "cell_type": "markdown",
      "source": [
        "19. Why are dictionaries considered unordered, and how does that affect data retrieval?\n",
        "    - A dictionary is termed an unordered collection of objects because dictionaries do not maintain any inherent order of the items based on when they were added. In older versions of Python (before 3.7), dictionaries did not preserve insertion order at all. This meant that when you accessed or printed the items, the order could vary, as dictionaries were optimized for fast lookups rather than maintaining order.\n",
        "\n"
      ],
      "metadata": {
        "id": "p012Ng6Oq3pm"
      }
    },
    {
      "cell_type": "markdown",
      "source": [
        "20. Explain the difference between a list and a dictionary in terms of data retrieval.\n",
        "     - A list is an ordered collection of items, whereas a dictionary is an unordered data collection in a key: value pair.\n",
        "Elements from the list can be accessed using the index, while the elements of the dictionary can be accessed using keys.\n",
        "The list allows duplicate items, while the dictionary does not allow any duplicate keys.\n",
        "A list can store any data type. In contrast, keys in the dictionary can be of any immutable data type, and values can be of any data type.\n",
        "Lists perform faster for ordered operations like sorting, while dictionaries perform faster for lookup operations"
      ],
      "metadata": {
        "id": "KU6GScR6q4CY"
      }
    },
    {
      "cell_type": "code",
      "source": [
        "#Write a code to create a string with your name and print it.\n",
        "a =(\"Anukrati Soni\")"
      ],
      "metadata": {
        "id": "nQzoCl3JuJoV"
      },
      "execution_count": null,
      "outputs": []
    },
    {
      "cell_type": "code",
      "source": [
        "# Write a code to find the length of the string \"Hello World\".\n",
        "text = (\"Hello World\")\n",
        "print(len(text))"
      ],
      "metadata": {
        "id": "h8fZ1Ye6uLNq",
        "colab": {
          "base_uri": "https://localhost:8080/"
        },
        "outputId": "d93d1fff-2be8-40d0-c18f-6053781c8e4e"
      },
      "execution_count": null,
      "outputs": [
        {
          "output_type": "stream",
          "name": "stdout",
          "text": [
            "11\n"
          ]
        }
      ]
    },
    {
      "cell_type": "code",
      "source": [
        "# Write a code to slice the first 3 characters from the string \"Python Programming\".\n",
        "string1 = \"python programming\"\n",
        "string1[0:3]"
      ],
      "metadata": {
        "id": "kIToGm7auLra",
        "colab": {
          "base_uri": "https://localhost:8080/",
          "height": 35
        },
        "outputId": "8eb71c59-5daf-4e7a-f8d1-0a76fb8be23e"
      },
      "execution_count": null,
      "outputs": [
        {
          "output_type": "execute_result",
          "data": {
            "text/plain": [
              "'pyt'"
            ],
            "application/vnd.google.colaboratory.intrinsic+json": {
              "type": "string"
            }
          },
          "metadata": {},
          "execution_count": 16
        }
      ]
    },
    {
      "cell_type": "code",
      "source": [
        "# Write a code to convert the string \"hello\" to uppercase.\n",
        "str= \"hello\"\n",
        "str.upper()"
      ],
      "metadata": {
        "id": "OTpKbID1uMBu",
        "colab": {
          "base_uri": "https://localhost:8080/",
          "height": 35
        },
        "outputId": "d7083c13-f560-4f72-f3e9-6998b96f02d3"
      },
      "execution_count": null,
      "outputs": [
        {
          "output_type": "execute_result",
          "data": {
            "text/plain": [
              "'HELLO'"
            ],
            "application/vnd.google.colaboratory.intrinsic+json": {
              "type": "string"
            }
          },
          "metadata": {},
          "execution_count": 17
        }
      ]
    },
    {
      "cell_type": "code",
      "source": [
        "# Write a code to replace the word \"apple\" with \"orange\" in the string \"I like apple\".\n",
        "text= (\"I like apple\" )\n",
        "text.replace(\"apple\",\"orange\")"
      ],
      "metadata": {
        "id": "QtwC4l7cuMtM",
        "colab": {
          "base_uri": "https://localhost:8080/",
          "height": 35
        },
        "outputId": "88de3c38-2bd2-482f-b446-869ce25c314b"
      },
      "execution_count": 1,
      "outputs": [
        {
          "output_type": "execute_result",
          "data": {
            "text/plain": [
              "'I like orange'"
            ],
            "application/vnd.google.colaboratory.intrinsic+json": {
              "type": "string"
            }
          },
          "metadata": {},
          "execution_count": 1
        }
      ]
    },
    {
      "cell_type": "code",
      "source": [
        "# Write a code to create a list with numbers 1 to 5 and print it.\n",
        "list1=([1,2,3,4,5])\n",
        "list1"
      ],
      "metadata": {
        "id": "g_bWtBFbuNBq",
        "colab": {
          "base_uri": "https://localhost:8080/"
        },
        "outputId": "6c71f505-1aac-49e1-e2cc-1502ea48246e"
      },
      "execution_count": null,
      "outputs": [
        {
          "output_type": "execute_result",
          "data": {
            "text/plain": [
              "[1, 2, 3, 4, 5]"
            ]
          },
          "metadata": {},
          "execution_count": 29
        }
      ]
    },
    {
      "cell_type": "code",
      "source": [
        "#  Write a code to append the number 10 to the list [1, 2, 3, 4].\n",
        "list = [1, 2, 3, 4]\n",
        "list.append(\"10\")\n",
        "list"
      ],
      "metadata": {
        "id": "qpMBFrq0uNUS",
        "colab": {
          "base_uri": "https://localhost:8080/"
        },
        "outputId": "ce13082f-79e6-4e49-b95d-aa11c41437ea"
      },
      "execution_count": null,
      "outputs": [
        {
          "output_type": "execute_result",
          "data": {
            "text/plain": [
              "[1, 2, 3, 4, '10']"
            ]
          },
          "metadata": {},
          "execution_count": 30
        }
      ]
    },
    {
      "cell_type": "code",
      "source": [
        "# Write a code to remove the number 3 from the list [1, 2, 3, 4, 5].\n",
        "list =  [1, 2, 3, 4, 5]\n",
        "list.remove(3)\n",
        "list"
      ],
      "metadata": {
        "id": "hRvrjrWpzxw0",
        "colab": {
          "base_uri": "https://localhost:8080/"
        },
        "outputId": "db14e5ee-c7e2-4976-9fac-35cb9491fe94"
      },
      "execution_count": 3,
      "outputs": [
        {
          "output_type": "execute_result",
          "data": {
            "text/plain": [
              "[1, 2, 4, 5]"
            ]
          },
          "metadata": {},
          "execution_count": 3
        }
      ]
    },
    {
      "cell_type": "code",
      "source": [
        "# Write a code to access the second element in the list ['a', 'b', 'c', 'd'].\n",
        "list = ['a', 'b', 'c', 'd']\n",
        "list"
      ],
      "metadata": {
        "id": "H28UOz1ozyN8",
        "colab": {
          "base_uri": "https://localhost:8080/"
        },
        "outputId": "127b286c-76e8-4031-ab59-ce161843f93a"
      },
      "execution_count": 4,
      "outputs": [
        {
          "output_type": "execute_result",
          "data": {
            "text/plain": [
              "['a', 'b', 'c', 'd']"
            ]
          },
          "metadata": {},
          "execution_count": 4
        }
      ]
    },
    {
      "cell_type": "code",
      "source": [
        " list [1]"
      ],
      "metadata": {
        "colab": {
          "base_uri": "https://localhost:8080/",
          "height": 35
        },
        "id": "xeYsiHF8D56Y",
        "outputId": "b1d3a7c4-834a-4fa0-d7be-79c1f9003296"
      },
      "execution_count": 5,
      "outputs": [
        {
          "output_type": "execute_result",
          "data": {
            "text/plain": [
              "'b'"
            ],
            "application/vnd.google.colaboratory.intrinsic+json": {
              "type": "string"
            }
          },
          "metadata": {},
          "execution_count": 5
        }
      ]
    },
    {
      "cell_type": "code",
      "source": [
        "# Write a code to reverse the list [10, 20, 30, 40, 50].\n",
        "list = [10, 20, 30, 40, 50]\n",
        "list.reverse()\n",
        "print (list)"
      ],
      "metadata": {
        "id": "_cz9uboczy7g",
        "colab": {
          "base_uri": "https://localhost:8080/"
        },
        "outputId": "2704a814-8f86-46aa-d2c8-b888cf572a4b"
      },
      "execution_count": 8,
      "outputs": [
        {
          "output_type": "stream",
          "name": "stdout",
          "text": [
            "[50, 40, 30, 20, 10]\n"
          ]
        }
      ]
    },
    {
      "cell_type": "code",
      "source": [
        "# Write a code to create a tuple with the elements 10, 20, 30 and print it.\n",
        "t = (10,20,30,)\n",
        "type (t)\n"
      ],
      "metadata": {
        "id": "NFdoZ2UizzPH",
        "colab": {
          "base_uri": "https://localhost:8080/"
        },
        "outputId": "5fdce28b-5b2d-48b1-a267-3dd46f52e64d"
      },
      "execution_count": null,
      "outputs": [
        {
          "output_type": "execute_result",
          "data": {
            "text/plain": [
              "tuple"
            ]
          },
          "metadata": {},
          "execution_count": 24
        }
      ]
    },
    {
      "cell_type": "code",
      "source": [
        "t"
      ],
      "metadata": {
        "colab": {
          "base_uri": "https://localhost:8080/"
        },
        "id": "qrTsta4pG8Vk",
        "outputId": "c776ac6a-52a1-4e72-b30f-8da3bdef2404"
      },
      "execution_count": null,
      "outputs": [
        {
          "output_type": "execute_result",
          "data": {
            "text/plain": [
              "(10, 20, 30)"
            ]
          },
          "metadata": {},
          "execution_count": 25
        }
      ]
    },
    {
      "cell_type": "code",
      "source": [
        "#  Write a code to access the first element of the tuple  ['a', 'b', 'c', 'd']\n",
        "t1 = ('a','b','c','d')\n",
        "type (t1)"
      ],
      "metadata": {
        "id": "uWtck7qB2CXy",
        "colab": {
          "base_uri": "https://localhost:8080/"
        },
        "outputId": "ae51f4bb-bf3e-4cf9-fd3d-dbc22c8ed5f4"
      },
      "execution_count": null,
      "outputs": [
        {
          "output_type": "execute_result",
          "data": {
            "text/plain": [
              "tuple"
            ]
          },
          "metadata": {},
          "execution_count": 26
        }
      ]
    },
    {
      "cell_type": "code",
      "source": [
        "t1[0]"
      ],
      "metadata": {
        "colab": {
          "base_uri": "https://localhost:8080/",
          "height": 35
        },
        "id": "8iFlq97_HbWe",
        "outputId": "617d333c-6186-4328-ae2d-436a5441eb26"
      },
      "execution_count": null,
      "outputs": [
        {
          "output_type": "execute_result",
          "data": {
            "text/plain": [
              "'a'"
            ],
            "application/vnd.google.colaboratory.intrinsic+json": {
              "type": "string"
            }
          },
          "metadata": {},
          "execution_count": 28
        }
      ]
    },
    {
      "cell_type": "code",
      "source": [
        "#  Write a code to count how many times the number 2 appears in the tuple (1, 2, 3, 2, 4, 2).\n",
        "t =(1, 2, 3, 2, 4, 2)\n",
        "type (t)\n",
        "t.count (2)"
      ],
      "metadata": {
        "id": "6SyIOhhU2FGO",
        "colab": {
          "base_uri": "https://localhost:8080/"
        },
        "outputId": "d05f79ef-da21-409d-9035-1f3a3b1ce501"
      },
      "execution_count": null,
      "outputs": [
        {
          "output_type": "execute_result",
          "data": {
            "text/plain": [
              "3"
            ]
          },
          "metadata": {},
          "execution_count": 30
        }
      ]
    },
    {
      "cell_type": "code",
      "source": [
        "#\n",
        "type (t2)"
      ],
      "metadata": {
        "id": "C-zVdyTC2Fa5",
        "colab": {
          "base_uri": "https://localhost:8080/"
        },
        "outputId": "9aa74bc8-cf95-43f5-fb29-5e9aedc6c559"
      },
      "execution_count": null,
      "outputs": [
        {
          "output_type": "execute_result",
          "data": {
            "text/plain": [
              "tuple"
            ]
          },
          "metadata": {},
          "execution_count": 31
        }
      ]
    },
    {
      "cell_type": "code",
      "source": [
        "# Write a code to find the index of the element \"cat\" in the tuple ('dog', 'cat', 'rabbit').\n",
        "animals =('dog', 'cat', 'rabbit')\n",
        "index = animals.index('cat')\n",
        "print (index)"
      ],
      "metadata": {
        "id": "X643f44BKZlt",
        "colab": {
          "base_uri": "https://localhost:8080/"
        },
        "outputId": "a73901f5-81b8-4e6d-e66c-267d29a851d5"
      },
      "execution_count": 22,
      "outputs": [
        {
          "output_type": "stream",
          "name": "stdout",
          "text": [
            "1\n"
          ]
        }
      ]
    },
    {
      "cell_type": "code",
      "source": [
        "#  Write a code to check if the element \"banana\" is in the tuple ('apple', 'orange', 'banana').\n",
        "t3 = ('apple', 'orange', 'banana')\n",
        "type (t3)\n",
        "'banana' in t3"
      ],
      "metadata": {
        "id": "xTh2cYWt2F_n",
        "colab": {
          "base_uri": "https://localhost:8080/"
        },
        "outputId": "aebc7847-c75a-4840-d984-78a15cf28f80"
      },
      "execution_count": null,
      "outputs": [
        {
          "output_type": "execute_result",
          "data": {
            "text/plain": [
              "True"
            ]
          },
          "metadata": {},
          "execution_count": 34
        }
      ]
    },
    {
      "cell_type": "code",
      "source": [
        "#  Write a code to create a set with the elements 1, 2, 3, 4, 5 and print it.\n",
        "s ={1,2,3,4,5,}\n",
        "type (s)\n",
        "s"
      ],
      "metadata": {
        "id": "ZbKzpiPD2GOh",
        "colab": {
          "base_uri": "https://localhost:8080/"
        },
        "outputId": "4fcbaf6e-fac1-47a0-c2c5-3602d99dff65"
      },
      "execution_count": 16,
      "outputs": [
        {
          "output_type": "execute_result",
          "data": {
            "text/plain": [
              "{1, 2, 3, 4, 5}"
            ]
          },
          "metadata": {},
          "execution_count": 16
        }
      ]
    },
    {
      "cell_type": "code",
      "source": [
        "# Write a code to add the element 6 to the set {1, 2, 3, 4}.\n",
        "num ={1,2,3,4}\n",
        "num.add(6)\n",
        "print(num)"
      ],
      "metadata": {
        "id": "QuSUQG2n2Glq",
        "colab": {
          "base_uri": "https://localhost:8080/"
        },
        "outputId": "c87be565-c271-44e5-aa91-986d6eebb151"
      },
      "execution_count": 19,
      "outputs": [
        {
          "output_type": "stream",
          "name": "stdout",
          "text": [
            "{1, 2, 3, 4, 6}\n"
          ]
        }
      ]
    },
    {
      "cell_type": "code",
      "source": [
        "#  Write a code to create a tuple with the elements 10, 20, 30 and print it..\n",
        "t = (10,20,30,)\n",
        "t"
      ],
      "metadata": {
        "id": "W628F0UD2G7p",
        "colab": {
          "base_uri": "https://localhost:8080/"
        },
        "outputId": "99b04576-608d-4e74-fa3c-38ef67ae0ed4"
      },
      "execution_count": 10,
      "outputs": [
        {
          "output_type": "execute_result",
          "data": {
            "text/plain": [
              "(10, 20, 30)"
            ]
          },
          "metadata": {},
          "execution_count": 10
        }
      ]
    },
    {
      "cell_type": "code",
      "source": [
        "#  Write a code to create a tuple with the elements 10, 20, 30 and print it.\n",
        "t = (10,20,30)\n",
        "t"
      ],
      "metadata": {
        "id": "3vrG3acm2Hb9",
        "colab": {
          "base_uri": "https://localhost:8080/"
        },
        "outputId": "660d3293-b47f-4ce4-af75-06cd4d991d15"
      },
      "execution_count": 11,
      "outputs": [
        {
          "output_type": "execute_result",
          "data": {
            "text/plain": [
              "(10, 20, 30)"
            ]
          },
          "metadata": {},
          "execution_count": 11
        }
      ]
    },
    {
      "cell_type": "code",
      "source": [
        "# Write a code to access the first element of the tuple ('apple', 'banana', 'cherry').\n",
        "t=('apple', 'banana', 'cherry')\n",
        "type(t)"
      ],
      "metadata": {
        "id": "bhFIB8pk2IEZ",
        "colab": {
          "base_uri": "https://localhost:8080/"
        },
        "outputId": "712b726c-bc8e-49f6-b648-a6ce9b5799fd"
      },
      "execution_count": null,
      "outputs": [
        {
          "output_type": "execute_result",
          "data": {
            "text/plain": [
              "tuple"
            ]
          },
          "metadata": {},
          "execution_count": 42
        }
      ]
    },
    {
      "cell_type": "code",
      "source": [
        "t [0]"
      ],
      "metadata": {
        "colab": {
          "base_uri": "https://localhost:8080/",
          "height": 35
        },
        "id": "_o3JxizeOef8",
        "outputId": "a842130f-783c-447e-9d49-d8768ed4c0f8"
      },
      "execution_count": null,
      "outputs": [
        {
          "output_type": "execute_result",
          "data": {
            "text/plain": [
              "'apple'"
            ],
            "application/vnd.google.colaboratory.intrinsic+json": {
              "type": "string"
            }
          },
          "metadata": {},
          "execution_count": 43
        }
      ]
    },
    {
      "cell_type": "code",
      "source": [
        "#  Write a code to count how many times the number 2 appears in the tuple (1, 2, 3, 2, 4, 2).\n",
        "t =(1, 2, 3, 2, 4, 2)\n",
        "type (t)\n",
        "t.count (2)"
      ],
      "metadata": {
        "id": "J7aAolgQ2IoD",
        "colab": {
          "base_uri": "https://localhost:8080/"
        },
        "outputId": "8e38307a-db8f-4049-dd0c-cf9eebfc7d54"
      },
      "execution_count": 12,
      "outputs": [
        {
          "output_type": "execute_result",
          "data": {
            "text/plain": [
              "3"
            ]
          },
          "metadata": {},
          "execution_count": 12
        }
      ]
    },
    {
      "cell_type": "code",
      "source": [
        "#  Write a code to find the index of the element \"cat\" in the tuple ('dog', 'cat', 'rabbit').\n",
        "animals =('dog', 'cat', 'rabbit')\n",
        "index = animals.index('cat')\n",
        "print (index)"
      ],
      "metadata": {
        "id": "lihFkp9J3n5R",
        "colab": {
          "base_uri": "https://localhost:8080/"
        },
        "outputId": "ced79379-d5d0-41fb-d530-f6878fea1157"
      },
      "execution_count": 23,
      "outputs": [
        {
          "output_type": "stream",
          "name": "stdout",
          "text": [
            "1\n"
          ]
        }
      ]
    },
    {
      "cell_type": "code",
      "source": [
        "# Write a code to check if the element \"banana\" is in the tuple ('apple', 'orange', 'banana')\n",
        "t = ('apple', 'orange', 'banana')\n",
        "type (t)\n",
        "'banana' in t"
      ],
      "metadata": {
        "id": "l6Pqyory3owN",
        "colab": {
          "base_uri": "https://localhost:8080/"
        },
        "outputId": "e07af943-cff6-4fe6-df29-3a96ec1a6aa8"
      },
      "execution_count": 15,
      "outputs": [
        {
          "output_type": "execute_result",
          "data": {
            "text/plain": [
              "True"
            ]
          },
          "metadata": {},
          "execution_count": 15
        }
      ]
    },
    {
      "cell_type": "code",
      "source": [
        "# Write a code to create a set with the elements 1, 2, 3, 4, 5 and print it.\n",
        "s ={1,2,3,4,5,}\n",
        "type (s)\n",
        "s"
      ],
      "metadata": {
        "id": "28Pj6NX73pI0",
        "colab": {
          "base_uri": "https://localhost:8080/"
        },
        "outputId": "d92b9ecb-e56c-46aa-a518-a2141f8a1bbb"
      },
      "execution_count": 17,
      "outputs": [
        {
          "output_type": "execute_result",
          "data": {
            "text/plain": [
              "{1, 2, 3, 4, 5}"
            ]
          },
          "metadata": {},
          "execution_count": 17
        }
      ]
    },
    {
      "cell_type": "code",
      "source": [
        "#  Write a code to add the element 6 to the set {1, 2, 3, 4}.\n",
        "num ={1,2,3,4}\n",
        "num.add(6)\n",
        "print(num)"
      ],
      "metadata": {
        "id": "JIRSQYTs3puh",
        "colab": {
          "base_uri": "https://localhost:8080/"
        },
        "outputId": "a27169ee-f684-431c-b540-a9084494a325"
      },
      "execution_count": 20,
      "outputs": [
        {
          "output_type": "stream",
          "name": "stdout",
          "text": [
            "{1, 2, 3, 4, 6}\n"
          ]
        }
      ]
    }
  ]
}